{
  "cells": [
    {
      "cell_type": "code",
      "source": [
        "from google.colab import drive \n",
        "\n",
        "drive.mount('/content/gdrive')"
      ],
      "metadata": {
        "colab": {
          "base_uri": "https://localhost:8080/"
        },
        "id": "4KiojttVZ_9i",
        "outputId": "26022669-fd36-4455-ff85-cda5e1985032"
      },
      "execution_count": 24,
      "outputs": [
        {
          "output_type": "stream",
          "name": "stdout",
          "text": [
            "Drive already mounted at /content/gdrive; to attempt to forcibly remount, call drive.mount(\"/content/gdrive\", force_remount=True).\n"
          ]
        }
      ]
    },
    {
      "cell_type": "code",
      "source": [
        "# setup git\n",
        "%cd /content/gdrive/MyDrive\n",
        "!mkdir MLSD_Project\n",
        "%cd MLSD_Project\n",
        "!rm -rf StockPrediction\n",
        "!git clone https://YOUR_PAT@github.com/NeginHashemi/StockPrediction.git"
      ],
      "metadata": {
        "colab": {
          "base_uri": "https://localhost:8080/"
        },
        "id": "7riuKWEfZFAB",
        "outputId": "9f03aa19-aae7-40ac-d648-d3ab050df4f4"
      },
      "execution_count": 44,
      "outputs": [
        {
          "output_type": "stream",
          "name": "stdout",
          "text": [
            "/content/gdrive/MyDrive\n",
            "mkdir: cannot create directory ‘MLSD_Project’: File exists\n",
            "/content/gdrive/MyDrive/MLSD_Project\n",
            "Cloning into 'StockPrediction'...\n",
            "remote: Enumerating objects: 76, done.\u001b[K\n",
            "remote: Counting objects: 100% (76/76), done.\u001b[K\n",
            "remote: Compressing objects: 100% (51/51), done.\u001b[K\n",
            "remote: Total 76 (delta 43), reused 56 (delta 23), pack-reused 0\u001b[K\n",
            "Unpacking objects: 100% (76/76), 96.39 KiB | 78.00 KiB/s, done.\n"
          ]
        }
      ]
    },
    {
      "cell_type": "markdown",
      "metadata": {
        "id": "B17zplF_Ev1m"
      },
      "source": [
        "# Regression Approach"
      ]
    },
    {
      "cell_type": "code",
      "execution_count": 45,
      "metadata": {
        "id": "46ndr5LjEz97"
      },
      "outputs": [],
      "source": [
        "# TODO"
      ]
    },
    {
      "cell_type": "markdown",
      "metadata": {
        "id": "bY5UPq4TEaf0"
      },
      "source": [
        "# RL Approach"
      ]
    },
    {
      "cell_type": "code",
      "execution_count": null,
      "metadata": {
        "id": "-tAFBLUPDrxq"
      },
      "outputs": [],
      "source": [
        "%cd /content/gdrive/MyDrive/MLSD_Project/StockPrediction/\n",
        "!bash test.sh"
      ]
    }
  ],
  "metadata": {
    "colab": {
      "provenance": [],
      "collapsed_sections": [
        "B17zplF_Ev1m"
      ]
    },
    "kernelspec": {
      "display_name": "Python 3",
      "name": "python3"
    },
    "language_info": {
      "name": "python"
    }
  },
  "nbformat": 4,
  "nbformat_minor": 0
}