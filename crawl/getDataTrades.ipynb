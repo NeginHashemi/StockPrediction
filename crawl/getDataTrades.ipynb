{
 "cells": [
  {
   "attachments": {},
   "cell_type": "markdown",
   "metadata": {},
   "source": [
    "# get data of trades "
   ]
  },
  {
   "cell_type": "code",
   "execution_count": 26,
   "metadata": {},
   "outputs": [],
   "source": [
    "import finpy_tse as fpy"
   ]
  },
  {
   "cell_type": "code",
   "execution_count": 27,
   "metadata": {},
   "outputs": [
    {
     "name": "stdout",
     "output_type": "stream",
     "text": [
      "Progress :  100.0 %\n",
      "WARNING: The following days data is not available on TSE website, even if those are trading days!\n",
      "['1401-10-19', '1401-11-12', '1402-01-29']\n"
     ]
    }
   ],
   "source": [
    "\n",
    "listData = []\n",
    "listStartEnd = [['1397-09-15' , '1398-09-15'] , ['1398-09-15' , '1399-09-15'] , ['1399-09-15' , '1400-09-15'] ,  ['1400-09-15' , '1401-09-15'] , ['1401-09-15' , '1402-02-01']]\n",
    "for time in listStartEnd:\n",
    "    data = fpy.Get_IntradayTrades_History(\n",
    "        stock='دارا یکم',\n",
    "        start_date=time[0],\n",
    "        end_date=time[1],\n",
    "        jalali_date=True,\n",
    "        combined_datatime=False,\n",
    "        show_progress=True)\n",
    "    listData.append(data)"
   ]
  },
  {
   "cell_type": "code",
   "execution_count": 28,
   "metadata": {},
   "outputs": [
    {
     "data": {
      "text/plain": [
       "5"
      ]
     },
     "execution_count": 28,
     "metadata": {},
     "output_type": "execute_result"
    }
   ],
   "source": [
    "len(listData)"
   ]
  },
  {
   "cell_type": "code",
   "execution_count": 21,
   "metadata": {},
   "outputs": [],
   "source": [
    "import pandas as pd"
   ]
  },
  {
   "cell_type": "code",
   "execution_count": 22,
   "metadata": {},
   "outputs": [],
   "source": [
    "dataMain = pd.concat([listData[0] , listData[1] , listData[2] , listData[3] , listData[4]])"
   ]
  },
  {
   "cell_type": "code",
   "execution_count": 23,
   "metadata": {},
   "outputs": [],
   "source": [
    "dataMain.to_csv('dataMain.csv')"
   ]
  }
 ],
 "metadata": {
  "kernelspec": {
   "display_name": "Python 3",
   "language": "python",
   "name": "python3"
  },
  "language_info": {
   "codemirror_mode": {
    "name": "ipython",
    "version": 3
   },
   "file_extension": ".py",
   "mimetype": "text/x-python",
   "name": "python",
   "nbconvert_exporter": "python",
   "pygments_lexer": "ipython3",
   "version": "3.11.0"
  },
  "orig_nbformat": 4
 },
 "nbformat": 4,
 "nbformat_minor": 2
}
