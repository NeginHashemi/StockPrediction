{
 "cells": [
  {
   "cell_type": "code",
   "execution_count": 1,
   "metadata": {},
   "outputs": [],
   "source": [
    "from tqdm import tqdm\n",
    "import jdatetime\n",
    "import pandas as pd"
   ]
  },
  {
   "attachments": {},
   "cell_type": "markdown",
   "metadata": {},
   "source": [
    "# change Date and Time to correct format "
   ]
  },
  {
   "cell_type": "code",
   "execution_count": 16,
   "metadata": {},
   "outputs": [],
   "source": [
    "sahamData = pd.read_csv(\"palayesh.csv\")"
   ]
  },
  {
   "cell_type": "code",
   "execution_count": 17,
   "metadata": {},
   "outputs": [],
   "source": [
    "listDate = [date.split(\"-\") for date in list(sahamData['J-Date'])]"
   ]
  },
  {
   "cell_type": "code",
   "execution_count": 18,
   "metadata": {},
   "outputs": [],
   "source": [
    "sahamData['year'] = [date[0] for date in listDate]\n",
    "sahamData['month'] = [date[1] for date in listDate]\n",
    "sahamData['day'] = [date[2] for date in listDate]"
   ]
  },
  {
   "cell_type": "code",
   "execution_count": 19,
   "metadata": {},
   "outputs": [],
   "source": [
    "listTime = [date.split(\":\") for date in list(sahamData['Time'])]"
   ]
  },
  {
   "cell_type": "code",
   "execution_count": 20,
   "metadata": {},
   "outputs": [],
   "source": [
    "sahamData['hour'] = [date[0] for date in listTime]\n",
    "sahamData['minute'] = [date[1] for date in listTime]\n",
    "sahamData['second'] = [date[2] for date in listTime]"
   ]
  },
  {
   "cell_type": "code",
   "execution_count": 21,
   "metadata": {},
   "outputs": [],
   "source": [
    "listDay = list(sahamData['day'])\n",
    "listYear = list(sahamData['year'])\n",
    "listMonth = list(sahamData['month'])"
   ]
  },
  {
   "cell_type": "code",
   "execution_count": 22,
   "metadata": {},
   "outputs": [
    {
     "name": "stderr",
     "output_type": "stream",
     "text": [
      "100%|██████████| 16887164/16887164 [06:02<00:00, 46534.16it/s]\n"
     ]
    }
   ],
   "source": [
    "listTarikh = []\n",
    "for i in tqdm(range(len(list(sahamData['year'])))):\n",
    "    listTarikh.append(str(jdatetime.date(day = int(listDay[i]) , month = int(listMonth[i]) , year = int(listYear[i])).togregorian()))"
   ]
  },
  {
   "cell_type": "code",
   "execution_count": 23,
   "metadata": {},
   "outputs": [],
   "source": [
    "sahamData['tarikh'] = listTarikh"
   ]
  },
  {
   "cell_type": "code",
   "execution_count": 24,
   "metadata": {},
   "outputs": [],
   "source": [
    "df  = sahamData"
   ]
  },
  {
   "attachments": {},
   "cell_type": "markdown",
   "metadata": {},
   "source": [
    "# Change index to Time"
   ]
  },
  {
   "cell_type": "code",
   "execution_count": 25,
   "metadata": {},
   "outputs": [],
   "source": [
    "df[\"time\"] = pd.to_datetime(sahamData['tarikh'] + \" \" +\n",
    "                            df[\"hour\"] + \":\" + df[\"minute\"] + \":\" + df[\"second\"],\n",
    "                            format=\"%Y-%m-%d %H:%M:%S\")\n",
    "\n",
    "# Set the time column as the index\n",
    "df = df.set_index(\"time\")"
   ]
  },
  {
   "cell_type": "code",
   "execution_count": 26,
   "metadata": {},
   "outputs": [
    {
     "data": {
      "text/html": [
       "<div>\n",
       "<style scoped>\n",
       "    .dataframe tbody tr th:only-of-type {\n",
       "        vertical-align: middle;\n",
       "    }\n",
       "\n",
       "    .dataframe tbody tr th {\n",
       "        vertical-align: top;\n",
       "    }\n",
       "\n",
       "    .dataframe thead th {\n",
       "        text-align: right;\n",
       "    }\n",
       "</style>\n",
       "<table border=\"1\" class=\"dataframe\">\n",
       "  <thead>\n",
       "    <tr style=\"text-align: right;\">\n",
       "      <th></th>\n",
       "      <th>J-Date</th>\n",
       "      <th>Time</th>\n",
       "      <th>Volume</th>\n",
       "      <th>Price</th>\n",
       "      <th>year</th>\n",
       "      <th>month</th>\n",
       "      <th>day</th>\n",
       "      <th>hour</th>\n",
       "      <th>minute</th>\n",
       "      <th>second</th>\n",
       "      <th>tarikh</th>\n",
       "    </tr>\n",
       "    <tr>\n",
       "      <th>time</th>\n",
       "      <th></th>\n",
       "      <th></th>\n",
       "      <th></th>\n",
       "      <th></th>\n",
       "      <th></th>\n",
       "      <th></th>\n",
       "      <th></th>\n",
       "      <th></th>\n",
       "      <th></th>\n",
       "      <th></th>\n",
       "      <th></th>\n",
       "    </tr>\n",
       "  </thead>\n",
       "  <tbody>\n",
       "    <tr>\n",
       "      <th>2020-12-01 12:00:05</th>\n",
       "      <td>1399-09-11</td>\n",
       "      <td>12:00:05</td>\n",
       "      <td>500</td>\n",
       "      <td>119000</td>\n",
       "      <td>1399</td>\n",
       "      <td>09</td>\n",
       "      <td>11</td>\n",
       "      <td>12</td>\n",
       "      <td>00</td>\n",
       "      <td>05</td>\n",
       "      <td>2020-12-01</td>\n",
       "    </tr>\n",
       "    <tr>\n",
       "      <th>2020-12-01 12:00:05</th>\n",
       "      <td>1399-09-11</td>\n",
       "      <td>12:00:05</td>\n",
       "      <td>500</td>\n",
       "      <td>119000</td>\n",
       "      <td>1399</td>\n",
       "      <td>09</td>\n",
       "      <td>11</td>\n",
       "      <td>12</td>\n",
       "      <td>00</td>\n",
       "      <td>05</td>\n",
       "      <td>2020-12-01</td>\n",
       "    </tr>\n",
       "    <tr>\n",
       "      <th>2020-12-01 12:00:05</th>\n",
       "      <td>1399-09-11</td>\n",
       "      <td>12:00:05</td>\n",
       "      <td>500</td>\n",
       "      <td>119000</td>\n",
       "      <td>1399</td>\n",
       "      <td>09</td>\n",
       "      <td>11</td>\n",
       "      <td>12</td>\n",
       "      <td>00</td>\n",
       "      <td>05</td>\n",
       "      <td>2020-12-01</td>\n",
       "    </tr>\n",
       "    <tr>\n",
       "      <th>2020-12-01 12:00:05</th>\n",
       "      <td>1399-09-11</td>\n",
       "      <td>12:00:05</td>\n",
       "      <td>500</td>\n",
       "      <td>119000</td>\n",
       "      <td>1399</td>\n",
       "      <td>09</td>\n",
       "      <td>11</td>\n",
       "      <td>12</td>\n",
       "      <td>00</td>\n",
       "      <td>05</td>\n",
       "      <td>2020-12-01</td>\n",
       "    </tr>\n",
       "    <tr>\n",
       "      <th>2020-12-01 12:00:05</th>\n",
       "      <td>1399-09-11</td>\n",
       "      <td>12:00:05</td>\n",
       "      <td>500</td>\n",
       "      <td>119000</td>\n",
       "      <td>1399</td>\n",
       "      <td>09</td>\n",
       "      <td>11</td>\n",
       "      <td>12</td>\n",
       "      <td>00</td>\n",
       "      <td>05</td>\n",
       "      <td>2020-12-01</td>\n",
       "    </tr>\n",
       "    <tr>\n",
       "      <th>...</th>\n",
       "      <td>...</td>\n",
       "      <td>...</td>\n",
       "      <td>...</td>\n",
       "      <td>...</td>\n",
       "      <td>...</td>\n",
       "      <td>...</td>\n",
       "      <td>...</td>\n",
       "      <td>...</td>\n",
       "      <td>...</td>\n",
       "      <td>...</td>\n",
       "      <td>...</td>\n",
       "    </tr>\n",
       "    <tr>\n",
       "      <th>2023-04-19 12:29:59</th>\n",
       "      <td>1402-01-30</td>\n",
       "      <td>12:29:59</td>\n",
       "      <td>17</td>\n",
       "      <td>184950</td>\n",
       "      <td>1402</td>\n",
       "      <td>01</td>\n",
       "      <td>30</td>\n",
       "      <td>12</td>\n",
       "      <td>29</td>\n",
       "      <td>59</td>\n",
       "      <td>2023-04-19</td>\n",
       "    </tr>\n",
       "    <tr>\n",
       "      <th>2023-04-19 12:29:59</th>\n",
       "      <td>1402-01-30</td>\n",
       "      <td>12:29:59</td>\n",
       "      <td>1000</td>\n",
       "      <td>184950</td>\n",
       "      <td>1402</td>\n",
       "      <td>01</td>\n",
       "      <td>30</td>\n",
       "      <td>12</td>\n",
       "      <td>29</td>\n",
       "      <td>59</td>\n",
       "      <td>2023-04-19</td>\n",
       "    </tr>\n",
       "    <tr>\n",
       "      <th>2023-04-19 12:29:59</th>\n",
       "      <td>1402-01-30</td>\n",
       "      <td>12:29:59</td>\n",
       "      <td>250</td>\n",
       "      <td>184950</td>\n",
       "      <td>1402</td>\n",
       "      <td>01</td>\n",
       "      <td>30</td>\n",
       "      <td>12</td>\n",
       "      <td>29</td>\n",
       "      <td>59</td>\n",
       "      <td>2023-04-19</td>\n",
       "    </tr>\n",
       "    <tr>\n",
       "      <th>2023-04-19 12:29:59</th>\n",
       "      <td>1402-01-30</td>\n",
       "      <td>12:29:59</td>\n",
       "      <td>1094</td>\n",
       "      <td>184950</td>\n",
       "      <td>1402</td>\n",
       "      <td>01</td>\n",
       "      <td>30</td>\n",
       "      <td>12</td>\n",
       "      <td>29</td>\n",
       "      <td>59</td>\n",
       "      <td>2023-04-19</td>\n",
       "    </tr>\n",
       "    <tr>\n",
       "      <th>2023-04-19 12:29:59</th>\n",
       "      <td>1402-01-30</td>\n",
       "      <td>12:29:59</td>\n",
       "      <td>4660</td>\n",
       "      <td>184950</td>\n",
       "      <td>1402</td>\n",
       "      <td>01</td>\n",
       "      <td>30</td>\n",
       "      <td>12</td>\n",
       "      <td>29</td>\n",
       "      <td>59</td>\n",
       "      <td>2023-04-19</td>\n",
       "    </tr>\n",
       "  </tbody>\n",
       "</table>\n",
       "<p>16887164 rows × 11 columns</p>\n",
       "</div>"
      ],
      "text/plain": [
       "                         J-Date      Time  Volume   Price  year month day  \\\n",
       "time                                                                        \n",
       "2020-12-01 12:00:05  1399-09-11  12:00:05     500  119000  1399    09  11   \n",
       "2020-12-01 12:00:05  1399-09-11  12:00:05     500  119000  1399    09  11   \n",
       "2020-12-01 12:00:05  1399-09-11  12:00:05     500  119000  1399    09  11   \n",
       "2020-12-01 12:00:05  1399-09-11  12:00:05     500  119000  1399    09  11   \n",
       "2020-12-01 12:00:05  1399-09-11  12:00:05     500  119000  1399    09  11   \n",
       "...                         ...       ...     ...     ...   ...   ...  ..   \n",
       "2023-04-19 12:29:59  1402-01-30  12:29:59      17  184950  1402    01  30   \n",
       "2023-04-19 12:29:59  1402-01-30  12:29:59    1000  184950  1402    01  30   \n",
       "2023-04-19 12:29:59  1402-01-30  12:29:59     250  184950  1402    01  30   \n",
       "2023-04-19 12:29:59  1402-01-30  12:29:59    1094  184950  1402    01  30   \n",
       "2023-04-19 12:29:59  1402-01-30  12:29:59    4660  184950  1402    01  30   \n",
       "\n",
       "                    hour minute second      tarikh  \n",
       "time                                                \n",
       "2020-12-01 12:00:05   12     00     05  2020-12-01  \n",
       "2020-12-01 12:00:05   12     00     05  2020-12-01  \n",
       "2020-12-01 12:00:05   12     00     05  2020-12-01  \n",
       "2020-12-01 12:00:05   12     00     05  2020-12-01  \n",
       "2020-12-01 12:00:05   12     00     05  2020-12-01  \n",
       "...                  ...    ...    ...         ...  \n",
       "2023-04-19 12:29:59   12     29     59  2023-04-19  \n",
       "2023-04-19 12:29:59   12     29     59  2023-04-19  \n",
       "2023-04-19 12:29:59   12     29     59  2023-04-19  \n",
       "2023-04-19 12:29:59   12     29     59  2023-04-19  \n",
       "2023-04-19 12:29:59   12     29     59  2023-04-19  \n",
       "\n",
       "[16887164 rows x 11 columns]"
      ]
     },
     "execution_count": 26,
     "metadata": {},
     "output_type": "execute_result"
    }
   ],
   "source": [
    "df"
   ]
  },
  {
   "attachments": {},
   "cell_type": "markdown",
   "metadata": {},
   "source": [
    "# function for making candles"
   ]
  },
  {
   "cell_type": "code",
   "execution_count": 27,
   "metadata": {},
   "outputs": [],
   "source": [
    "def getCandles(data , timeFrame):\n",
    "    \n",
    "    # Resample to one-minute intervals and aggregate using open-high-low-close\n",
    "    ohlc_dict = {\"Price\": [\"first\", \"max\", \"min\", \"last\"] }\n",
    "    ohlc_dict2 = {\"Volume\":{\"sum\"} }\n",
    "\n",
    "    \n",
    "    candles = data.resample(timeFrame).agg(ohlc_dict)\n",
    "    candles2 = data.resample(timeFrame).agg(ohlc_dict2)\n",
    "\n",
    "\n",
    "\n",
    "    # Flatten multi-level column names\n",
    "    candles.columns = [f\"{col[0]}_{col[1]}\" for col in candles.columns]\n",
    "    candles2.columns = [f\"{col[0]}_{col[1]}\" for col in candles2.columns]\n",
    "    candles = pd.concat([candles , candles2] , axis = 1)\n",
    "\n",
    "    # Calculate the high, low, open, and close prices for each candle\n",
    "    candles[\"high\"] = candles[\"Price_max\"]\n",
    "    candles[\"low\"] = candles[\"Price_min\"]\n",
    "    candles[\"open\"] = candles[\"Price_first\"]\n",
    "    candles[\"close\"] = candles[\"Price_last\"]\n",
    "    candles[\"volume\"] = candles[\"Volume_sum\"]\n",
    "\n",
    "    # Drop any rows with missing values\n",
    "    candles = candles.dropna()\n",
    "\n",
    "    # Print the resulting candles\n",
    "    return candles\n",
    "    "
   ]
  },
  {
   "attachments": {},
   "cell_type": "markdown",
   "metadata": {},
   "source": [
    "# make candles of different timeFrames"
   ]
  },
  {
   "cell_type": "code",
   "execution_count": null,
   "metadata": {},
   "outputs": [],
   "source": [
    "listTimeFrames = ['5min','30min' , '1H' , '1D' ]"
   ]
  },
  {
   "cell_type": "code",
   "execution_count": null,
   "metadata": {},
   "outputs": [],
   "source": [
    "for timeFrame in listTimeFrames:\n",
    "    candles = getCandles( df , timeFrame)\n",
    "    candles.to_csv(f\"palayesh_{timeFrame}.csv\")\n"
   ]
  }
 ],
 "metadata": {
  "kernelspec": {
   "display_name": "Python 3",
   "language": "python",
   "name": "python3"
  },
  "language_info": {
   "codemirror_mode": {
    "name": "ipython",
    "version": 3
   },
   "file_extension": ".py",
   "mimetype": "text/x-python",
   "name": "python",
   "nbconvert_exporter": "python",
   "pygments_lexer": "ipython3",
   "version": "3.11.0"
  },
  "orig_nbformat": 4
 },
 "nbformat": 4,
 "nbformat_minor": 2
}
